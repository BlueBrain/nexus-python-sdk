{
 "cells": [
  {
   "cell_type": "code",
   "execution_count": 29,
   "metadata": {
    "pycharm": {
     "is_executing": false
    }
   },
   "outputs": [],
   "source": [
    "import time"
   ]
  },
  {
   "cell_type": "code",
   "execution_count": 30,
   "metadata": {
    "pycharm": {
     "is_executing": false
    }
   },
   "outputs": [],
   "source": [
    "import json"
   ]
  },
  {
   "cell_type": "code",
   "execution_count": 31,
   "metadata": {
    "pycharm": {
     "is_executing": false
    }
   },
   "outputs": [],
   "source": [
    "from datetime import datetime"
   ]
  },
  {
   "cell_type": "code",
   "execution_count": 32,
   "metadata": {
    "pycharm": {
     "is_executing": false,
     "metadata": false,
     "name": "#%%\n"
    }
   },
   "outputs": [],
   "source": [
    "import nexussdk as nxs"
   ]
  },
  {
   "cell_type": "code",
   "execution_count": 33,
   "metadata": {
    "pycharm": {
     "is_executing": false
    }
   },
   "outputs": [],
   "source": [
    "# Example:\n",
    "# https://nexus.domain.org/v1\n",
    "with open(\"DEPLOYMENT\", \"r\") as f:\n",
    "    DEPLOYMENT = f.readline().rstrip()\n",
    "    nxs.config.set_environment(DEPLOYMENT)"
   ]
  },
  {
   "cell_type": "code",
   "execution_count": 34,
   "metadata": {
    "pycharm": {
     "is_executing": false
    }
   },
   "outputs": [],
   "source": [
    "with open(\"TOKEN\", \"r\") as f:\n",
    "    TOKEN = f.readline().rstrip()\n",
    "    nxs.config.set_token(TOKEN)"
   ]
  },
  {
   "cell_type": "code",
   "execution_count": 35,
   "metadata": {
    "pycharm": {
     "is_executing": false
    }
   },
   "outputs": [],
   "source": [
    "pp = nxs.tools.pretty_print"
   ]
  },
  {
   "cell_type": "markdown",
   "metadata": {
    "pycharm": {}
   },
   "source": [
    "# Examples setup"
   ]
  },
  {
   "cell_type": "code",
   "execution_count": 36,
   "metadata": {
    "pycharm": {
     "is_executing": false
    }
   },
   "outputs": [],
   "source": [
    "def utcnow() -> str:\n",
    "    return datetime.utcnow().strftime(\"%Y%m%d%H%M%S%f\")"
   ]
  },
  {
   "cell_type": "code",
   "execution_count": 37,
   "metadata": {
    "pycharm": {
     "is_executing": false
    }
   },
   "outputs": [],
   "source": [
    "def generate_compacted_id() -> str:\n",
    "    return \"nxv:storage{}\".format(utcnow())"
   ]
  },
  {
   "cell_type": "code",
   "execution_count": 38,
   "metadata": {
    "pycharm": {
     "is_executing": false
    }
   },
   "outputs": [],
   "source": [
    "def generate_expanded_id() -> str:\n",
    "    return \"{}/storage{}\".format(\"https://knowledgegraph.domain.org\", utcnow())"
   ]
  },
  {
   "cell_type": "code",
   "execution_count": null,
   "metadata": {
    "pycharm": {}
   },
   "outputs": [],
   "source": []
  },
  {
   "cell_type": "code",
   "execution_count": 39,
   "metadata": {
    "pycharm": {
     "is_executing": false
    }
   },
   "outputs": [],
   "source": [
    "ORGANIZATION = \"myorg{}\".format(utcnow())"
   ]
  },
  {
   "cell_type": "code",
   "execution_count": 40,
   "metadata": {
    "pycharm": {}
   },
   "outputs": [
    {
     "data": {
      "text/plain": [
       "'http://dev.nexus.ocp.bbp.epfl.ch/v1/orgs/myorg20190522150300907699'"
      ]
     },
     "execution_count": 40,
     "metadata": {},
     "output_type": "execute_result"
    }
   ],
   "source": [
    "nxs.organizations.create(ORGANIZATION)[\"@id\"]"
   ]
  },
  {
   "cell_type": "code",
   "execution_count": 41,
   "metadata": {
    "pycharm": {}
   },
   "outputs": [],
   "source": [
    "PROJECT = \"myproject\""
   ]
  },
  {
   "cell_type": "code",
   "execution_count": 42,
   "metadata": {
    "pycharm": {}
   },
   "outputs": [
    {
     "data": {
      "text/plain": [
       "'http://dev.nexus.ocp.bbp.epfl.ch/v1/projects/myorg20190522150300907699/myproject'"
      ]
     },
     "execution_count": 42,
     "metadata": {},
     "output_type": "execute_result"
    }
   ],
   "source": [
    "nxs.projects.create(ORGANIZATION, PROJECT)[\"@id\"]"
   ]
  },
  {
   "cell_type": "code",
   "execution_count": 43,
   "metadata": {
    "pycharm": {}
   },
   "outputs": [],
   "source": [
    "with open(\"S3_ENDPOINT\") as f:\n",
    "    S3_ENDPOINT = f.readline().rstrip()"
   ]
  },
  {
   "cell_type": "code",
   "execution_count": 44,
   "metadata": {
    "pycharm": {}
   },
   "outputs": [],
   "source": [
    "with open(\"S3_ACCESS_KEY\") as f:\n",
    "    S3_ACCESS_KEY = f.readline().rstrip()"
   ]
  },
  {
   "cell_type": "code",
   "execution_count": 45,
   "metadata": {},
   "outputs": [],
   "source": [
    "with open(\"S3_SECRET_KEY\") as f:\n",
    "    S3_SECRET_KEY = f.readline().rstrip()"
   ]
  },
  {
   "cell_type": "code",
   "execution_count": null,
   "metadata": {},
   "outputs": [],
   "source": [
    "with open(\"EXTERNAL_DISK_ENDPOINT\") as f:\n",
    "    EXTERNAL_DISK_ENDPOINT = f.readline().rstrip()"
   ]
  },
  {
   "cell_type": "code",
   "execution_count": null,
   "metadata": {},
   "outputs": [],
   "source": [
    "with open(\"EXTERNAL_DISK_CREDENTIALS\") as f:\n",
    "    EXTERNAL_DISK_CREDENTIALS = f.readline().rstrip()"
   ]
  },
  {
   "cell_type": "code",
   "execution_count": null,
   "metadata": {},
   "outputs": [],
   "source": []
  },
  {
   "cell_type": "markdown",
   "metadata": {},
   "source": [
    "### User API"
   ]
  },
  {
   "cell_type": "code",
   "execution_count": 46,
   "metadata": {},
   "outputs": [],
   "source": [
    "s3_storage_id = nxs.storages.create_s3_storage(\n",
    "    ORGANIZATION,\n",
    "    PROJECT,\n",
    "    \"sdkbucket\",\n",
    "    endpoint = S3_ENDPOINT,\n",
    "    access_key = S3_ACCESS_KEY,\n",
    "    secret_key = S3_SECRET_KEY)[\"@id\"]"
   ]
  },
  {
   "cell_type": "code",
   "execution_count": null,
   "metadata": {},
   "outputs": [],
   "source": [
    "disk_storage_id = nxs.storages.create_disk_storage(ORGANIZATION, PROJECT, \"/tmp\")[\"@id\"]"
   ]
  },
  {
   "cell_type": "code",
   "execution_count": null,
   "metadata": {},
   "outputs": [],
   "source": [
    "external_disk_storage_id = nxs.storages.create_external_disk_storage(\n",
    "    ORGANIZATION,\n",
    "    PROJECT,\n",
    "    EXTERNAL_DISK_ENDPOINT,\n",
    "    \"testproject\",\n",
    "    credentials=EXTERNAL_DISK_CREDENTIALS)[\"@id\"]"
   ]
  },
  {
   "cell_type": "code",
   "execution_count": 19,
   "metadata": {},
   "outputs": [
    {
     "name": "stdout",
     "output_type": "stream",
     "text": [
      "{\n",
      "  \"@context\": [\n",
      "    \"https://bluebrain.github.io/nexus/contexts/storage.json\",\n",
      "    \"https://bluebrain.github.io/nexus/contexts/resource.json\"\n",
      "  ],\n",
      "  \"@id\": \"http://dev.nexus.ocp.bbp.epfl.ch/v1/resources/myorg20190522145317832858/myproject/_/dc2e42de-30aa-42dc-a4de-689c19899cb5\",\n",
      "  \"@type\": [\n",
      "    \"S3Storage\",\n",
      "    \"Storage\"\n",
      "  ],\n",
      "  \"bucket\": \"sdkbucket\",\n",
      "  \"default\": false,\n",
      "  \"endpoint\": \"http://minio.dev.nexus.ocp.bbp.epfl.ch\",\n",
      "  \"readPermission\": \"resources/read\",\n",
      "  \"writePermission\": \"files/write\",\n",
      "  \"_algorithm\": \"SHA-256\",\n",
      "  \"_self\": \"http://dev.nexus.ocp.bbp.epfl.ch/v1/storages/myorg20190522145317832858/myproject/dc2e42de-30aa-42dc-a4de-689c19899cb5\",\n",
      "  \"_constrainedBy\": \"https://bluebrain.github.io/nexus/schemas/storage.json\",\n",
      "  \"_project\": \"http://dev.nexus.ocp.bbp.epfl.ch/v1/projects/myorg20190522145317832858/myproject\",\n",
      "  \"_rev\": 1,\n",
      "  \"_deprecated\": false,\n",
      "  \"_createdAt\": \"2019-05-22T14:53:26.647Z\",\n",
      "  \"_createdBy\": \"http://dev.nexus.ocp.bbp.epfl.ch/v1/realms/github/users/henry\",\n",
      "  \"_updatedAt\": \"2019-05-22T14:53:26.647Z\",\n",
      "  \"_updatedBy\": \"http://dev.nexus.ocp.bbp.epfl.ch/v1/realms/github/users/henry\"\n",
      "}\n"
     ]
    }
   ],
   "source": [
    "pp(nxs.storages.fetch(ORGANIZATION, PROJECT, s3_storage_id))"
   ]
  },
  {
   "cell_type": "code",
   "execution_count": null,
   "metadata": {},
   "outputs": [],
   "source": [
    "pp(nxs.storages.fetch(ORGANIZATION, PROJECT, disk_storage_id))"
   ]
  },
  {
   "cell_type": "code",
   "execution_count": null,
   "metadata": {},
   "outputs": [],
   "source": [
    "pp(nxs.storages.fetch(ORGANIZATION, PROJECT, external_disk_storage_id))"
   ]
  },
  {
   "cell_type": "code",
   "execution_count": 20,
   "metadata": {
    "scrolled": true
   },
   "outputs": [
    {
     "name": "stdout",
     "output_type": "stream",
     "text": [
      "{\n",
      "  \"@context\": [\n",
      "    \"https://bluebrain.github.io/nexus/contexts/search.json\",\n",
      "    \"https://bluebrain.github.io/nexus/contexts/resource.json\"\n",
      "  ],\n",
      "  \"_total\": 2,\n",
      "  \"_results\": [\n",
      "    {\n",
      "      \"@id\": \"https://bluebrain.github.io/nexus/vocabulary/diskStorageDefault\",\n",
      "      \"@type\": [\n",
      "        \"https://bluebrain.github.io/nexus/vocabulary/Storage\",\n",
      "        \"https://bluebrain.github.io/nexus/vocabulary/DiskStorage\"\n",
      "      ],\n",
      "      \"_self\": \"http://dev.nexus.ocp.bbp.epfl.ch/v1/storages/myorg20190522144800398445/myproject/https%3A%2F%2Fbluebrain.github.io%2Fnexus%2Fvocabulary%2FdiskStorageDefault\",\n",
      "      \"_constrainedBy\": \"https://bluebrain.github.io/nexus/schemas/storage.json\",\n",
      "      \"_project\": \"http://dev.nexus.ocp.bbp.epfl.ch/v1/projects/myorg20190522144800398445/myproject\",\n",
      "      \"_rev\": 1,\n",
      "      \"_deprecated\": false,\n",
      "      \"_createdAt\": \"2019-05-22T14:48:05.638Z\",\n",
      "      \"_createdBy\": \"http://dev.nexus.ocp.bbp.epfl.ch/v1/realms/github/users/henry\",\n",
      "      \"_updatedAt\": \"2019-05-22T14:48:05.638Z\",\n",
      "      \"_updatedBy\": \"http://dev.nexus.ocp.bbp.epfl.ch/v1/realms/github/users/henry\"\n",
      "    },\n",
      "    {\n",
      "      \"@id\": \"http://dev.nexus.ocp.bbp.epfl.ch/v1/resources/myorg20190522144800398445/myproject/_/ec03cec7-3fc6-4246-b147-78b1179964b0\",\n",
      "      \"@type\": [\n",
      "        \"https://bluebrain.github.io/nexus/vocabulary/S3Storage\",\n",
      "        \"https://bluebrain.github.io/nexus/vocabulary/Storage\"\n",
      "      ],\n",
      "      \"_self\": \"http://dev.nexus.ocp.bbp.epfl.ch/v1/storages/myorg20190522144800398445/myproject/ec03cec7-3fc6-4246-b147-78b1179964b0\",\n",
      "      \"_constrainedBy\": \"https://bluebrain.github.io/nexus/schemas/storage.json\",\n",
      "      \"_project\": \"http://dev.nexus.ocp.bbp.epfl.ch/v1/projects/myorg20190522144800398445/myproject\",\n",
      "      \"_rev\": 1,\n",
      "      \"_deprecated\": false,\n",
      "      \"_createdAt\": \"2019-05-22T14:48:13.026Z\",\n",
      "      \"_createdBy\": \"http://dev.nexus.ocp.bbp.epfl.ch/v1/realms/github/users/henry\",\n",
      "      \"_updatedAt\": \"2019-05-22T14:48:13.026Z\",\n",
      "      \"_updatedBy\": \"http://dev.nexus.ocp.bbp.epfl.ch/v1/realms/github/users/henry\"\n",
      "    }\n",
      "  ],\n",
      "  \"_next\": \"http://dev.nexus.ocp.bbp.epfl.ch/v1/storages/myorg20190522144800398445/myproject?after=%5B1558536493026,%22http://dev.nexus.ocp.bbp.epfl.ch/v1/resources/myorg20190522144800398445/myproject/_/ec03cec7-3fc6-4246-b147-78b1179964b0%22%5D\"\n",
      "}\n"
     ]
    }
   ],
   "source": [
    "pp(nxs.storages.list(ORGANIZATION, PROJECT))"
   ]
  },
  {
   "cell_type": "code",
   "execution_count": null,
   "metadata": {},
   "outputs": [],
   "source": [
    "pp(nxs.storages.list(ORGANIZATION, PROJECT, type=\"nxv:S3Storage\"))"
   ]
  },
  {
   "cell_type": "code",
   "execution_count": null,
   "metadata": {},
   "outputs": [],
   "source": [
    "pp(nxs.storages.tag(ORGANIZATION, PROJECT, disk_storage_id, tag=\"v1.1.1\", rev_to_tag=1, rev=1))"
   ]
  },
  {
   "cell_type": "code",
   "execution_count": null,
   "metadata": {},
   "outputs": [],
   "source": [
    "pp(nxs.storages.tags(ORGANIZATION, PROJECT, disk_storage_id))"
   ]
  },
  {
   "cell_type": "markdown",
   "metadata": {},
   "source": [
    "## Files API"
   ]
  },
  {
   "cell_type": "code",
   "execution_count": 47,
   "metadata": {},
   "outputs": [],
   "source": [
    "linked_image = nxs.files.create_link(ORGANIZATION, PROJECT, \"idontalways.jpg\", \"6emgw.jpg\", \"image/jpeg\", storage_id=s3_storage_id)"
   ]
  },
  {
   "cell_type": "code",
   "execution_count": 21,
   "metadata": {},
   "outputs": [
    {
     "name": "stdout",
     "output_type": "stream",
     "text": [
      "{\n",
      "  \"@context\": \"https://bluebrain.github.io/nexus/contexts/resource.json\",\n",
      "  \"@id\": \"http://dev.nexus.ocp.bbp.epfl.ch/v1/resources/myorg20190522145317832858/myproject/_/d13380bb-65e8-4071-835e-671c840d83f5\",\n",
      "  \"@type\": \"File\",\n",
      "  \"_storageId\": \"http://dev.nexus.ocp.bbp.epfl.ch/v1/resources/myorg20190522145317832858/myproject/_/dc2e42de-30aa-42dc-a4de-689c19899cb5\",\n",
      "  \"_bytes\": 28173,\n",
      "  \"_digest\": {\n",
      "    \"_value\": \"7a132bb63cb25f6f86d76ddf1c7ea3db785b1ccec6ca34d209c18dc4e08479a4\",\n",
      "    \"_algorithm\": \"SHA-256\"\n",
      "  },\n",
      "  \"_filename\": \"idontalways.jpg\",\n",
      "  \"_location\": \"http://minio.dev.nexus.ocp.bbp.epfl.ch/sdkbucket/6emgw.jpg\",\n",
      "  \"_mediaType\": \"image/jpeg\",\n",
      "  \"_self\": \"http://dev.nexus.ocp.bbp.epfl.ch/v1/files/myorg20190522145317832858/myproject/d13380bb-65e8-4071-835e-671c840d83f5\",\n",
      "  \"_constrainedBy\": \"https://bluebrain.github.io/nexus/schemas/file.json\",\n",
      "  \"_project\": \"http://dev.nexus.ocp.bbp.epfl.ch/v1/projects/myorg20190522145317832858/myproject\",\n",
      "  \"_rev\": 1,\n",
      "  \"_deprecated\": false,\n",
      "  \"_createdAt\": \"2019-05-22T14:53:49.093Z\",\n",
      "  \"_createdBy\": \"http://dev.nexus.ocp.bbp.epfl.ch/v1/realms/github/users/henry\",\n",
      "  \"_updatedAt\": \"2019-05-22T14:53:49.093Z\",\n",
      "  \"_updatedBy\": \"http://dev.nexus.ocp.bbp.epfl.ch/v1/realms/github/users/henry\"\n",
      "}\n"
     ]
    }
   ],
   "source": [
    "pp(linked_image)"
   ]
  },
  {
   "cell_type": "code",
   "execution_count": 48,
   "metadata": {
    "scrolled": true
   },
   "outputs": [
    {
     "name": "stdout",
     "output_type": "stream",
     "text": [
      "{\n",
      "  \"@context\": [\n",
      "    {\n",
      "      \"@base\": \"http://dev.nexus.ocp.bbp.epfl.ch/v1/resources/myorg20190522150300907699/myproject/_/\",\n",
      "      \"@vocab\": \"http://dev.nexus.ocp.bbp.epfl.ch/v1/vocabs/myorg20190522150300907699/myproject/\"\n",
      "    },\n",
      "    \"https://bluebrain.github.io/nexus/contexts/resource.json\"\n",
      "  ],\n",
      "  \"@id\": \"a771b5c6-0558-468c-aa89-82f6e086ce48\",\n",
      "  \"@type\": \"File\",\n",
      "  \"_storageId\": \"8affbb22-5ffd-462b-a8ec-b03248dc88ca\",\n",
      "  \"_bytes\": 28173,\n",
      "  \"_digest\": {\n",
      "    \"_value\": \"7a132bb63cb25f6f86d76ddf1c7ea3db785b1ccec6ca34d209c18dc4e08479a4\",\n",
      "    \"_algorithm\": \"SHA-256\"\n",
      "  },\n",
      "  \"_filename\": \"idontalways.jpg\",\n",
      "  \"_location\": \"http://minio.dev.nexus.ocp.bbp.epfl.ch/sdkbucket/6emgw.jpg\",\n",
      "  \"_mediaType\": \"image/jpeg\",\n",
      "  \"_self\": \"http://dev.nexus.ocp.bbp.epfl.ch/v1/files/myorg20190522150300907699/myproject/a771b5c6-0558-468c-aa89-82f6e086ce48\",\n",
      "  \"_constrainedBy\": \"https://bluebrain.github.io/nexus/schemas/file.json\",\n",
      "  \"_project\": \"http://dev.nexus.ocp.bbp.epfl.ch/v1/projects/myorg20190522150300907699/myproject\",\n",
      "  \"_rev\": 1,\n",
      "  \"_deprecated\": false,\n",
      "  \"_createdAt\": \"2019-05-22T15:03:27.366Z\",\n",
      "  \"_createdBy\": \"http://dev.nexus.ocp.bbp.epfl.ch/v1/realms/github/users/henry\",\n",
      "  \"_updatedAt\": \"2019-05-22T15:03:27.366Z\",\n",
      "  \"_updatedBy\": \"http://dev.nexus.ocp.bbp.epfl.ch/v1/realms/github/users/henry\"\n",
      "}\n"
     ]
    }
   ],
   "source": [
    "pp(nxs.files.fetch(ORGANIZATION, PROJECT, linked_image[\"@id\"], out_filepath = linked_image[\"_filename\"]))"
   ]
  },
  {
   "cell_type": "markdown",
   "metadata": {},
   "source": [
    "![I don't always](idontalways.jpg)"
   ]
  },
  {
   "cell_type": "code",
   "execution_count": 49,
   "metadata": {},
   "outputs": [
    {
     "name": "stdout",
     "output_type": "stream",
     "text": [
      "{\n",
      "  \"@context\": \"https://bluebrain.github.io/nexus/contexts/resource.json\",\n",
      "  \"@id\": \"http://dev.nexus.ocp.bbp.epfl.ch/v1/resources/myorg20190522150300907699/myproject/_/f252984e-a81d-4c95-9e50-d65b2451a25d\",\n",
      "  \"@type\": \"File\",\n",
      "  \"_storageId\": \"nxv:diskStorageDefault\",\n",
      "  \"_bytes\": 28173,\n",
      "  \"_digest\": {\n",
      "    \"_value\": \"7a132bb63cb25f6f86d76ddf1c7ea3db785b1ccec6ca34d209c18dc4e08479a4\",\n",
      "    \"_algorithm\": \"SHA-256\"\n",
      "  },\n",
      "  \"_filename\": \"idontalways.jpg\",\n",
      "  \"_mediaType\": \"image/jpeg\",\n",
      "  \"_self\": \"http://dev.nexus.ocp.bbp.epfl.ch/v1/files/myorg20190522150300907699/myproject/f252984e-a81d-4c95-9e50-d65b2451a25d\",\n",
      "  \"_constrainedBy\": \"https://bluebrain.github.io/nexus/schemas/file.json\",\n",
      "  \"_project\": \"http://dev.nexus.ocp.bbp.epfl.ch/v1/projects/myorg20190522150300907699/myproject\",\n",
      "  \"_rev\": 1,\n",
      "  \"_deprecated\": false,\n",
      "  \"_createdAt\": \"2019-05-22T15:03:40.296Z\",\n",
      "  \"_createdBy\": \"http://dev.nexus.ocp.bbp.epfl.ch/v1/realms/github/users/henry\",\n",
      "  \"_updatedAt\": \"2019-05-22T15:03:40.296Z\",\n",
      "  \"_updatedBy\": \"http://dev.nexus.ocp.bbp.epfl.ch/v1/realms/github/users/henry\"\n",
      "}\n"
     ]
    }
   ],
   "source": [
    "pp(nxs.files.create(ORGANIZATION, PROJECT, \"idontalways.jpg\"))"
   ]
  },
  {
   "cell_type": "code",
   "execution_count": 50,
   "metadata": {},
   "outputs": [
    {
     "name": "stdout",
     "output_type": "stream",
     "text": [
      "{\n",
      "  \"@context\": \"https://bluebrain.github.io/nexus/contexts/resource.json\",\n",
      "  \"@id\": \"http://dev.nexus.ocp.bbp.epfl.ch/v1/resources/myorg20190522150300907699/myproject/_/a771b5c6-0558-468c-aa89-82f6e086ce48\",\n",
      "  \"@type\": \"File\",\n",
      "  \"_storageId\": \"http://dev.nexus.ocp.bbp.epfl.ch/v1/resources/myorg20190522150300907699/myproject/_/8affbb22-5ffd-462b-a8ec-b03248dc88ca\",\n",
      "  \"_bytes\": 28173,\n",
      "  \"_digest\": {\n",
      "    \"_value\": \"7a132bb63cb25f6f86d76ddf1c7ea3db785b1ccec6ca34d209c18dc4e08479a4\",\n",
      "    \"_algorithm\": \"SHA-256\"\n",
      "  },\n",
      "  \"_filename\": \"idontalways.jpg\",\n",
      "  \"_location\": \"http://minio.dev.nexus.ocp.bbp.epfl.ch/sdkbucket/6emgw.jpg\",\n",
      "  \"_mediaType\": \"image/jpeg\",\n",
      "  \"_self\": \"http://dev.nexus.ocp.bbp.epfl.ch/v1/files/myorg20190522150300907699/myproject/a771b5c6-0558-468c-aa89-82f6e086ce48\",\n",
      "  \"_constrainedBy\": \"https://bluebrain.github.io/nexus/schemas/file.json\",\n",
      "  \"_project\": \"http://dev.nexus.ocp.bbp.epfl.ch/v1/projects/myorg20190522150300907699/myproject\",\n",
      "  \"_rev\": 2,\n",
      "  \"_deprecated\": false,\n",
      "  \"_createdAt\": \"2019-05-22T15:03:27.366Z\",\n",
      "  \"_createdBy\": \"http://dev.nexus.ocp.bbp.epfl.ch/v1/realms/github/users/henry\",\n",
      "  \"_updatedAt\": \"2019-05-22T15:03:47.224Z\",\n",
      "  \"_updatedBy\": \"http://dev.nexus.ocp.bbp.epfl.ch/v1/realms/github/users/henry\"\n",
      "}\n"
     ]
    }
   ],
   "source": [
    "pp(nxs.files.update_link(ORGANIZATION, PROJECT, \"idontalways.jpg\", \"6emgw.jpg\", \"image/jpeg\", 1, file_id=linked_image[\"@id\"], storage_id=s3_storage_id))"
   ]
  },
  {
   "cell_type": "code",
   "execution_count": 51,
   "metadata": {},
   "outputs": [
    {
     "name": "stdout",
     "output_type": "stream",
     "text": [
      "{\n",
      "  \"@context\": [\n",
      "    \"https://bluebrain.github.io/nexus/contexts/search.json\",\n",
      "    \"https://bluebrain.github.io/nexus/contexts/resource.json\"\n",
      "  ],\n",
      "  \"_total\": 2,\n",
      "  \"_results\": [\n",
      "    {\n",
      "      \"@id\": \"http://dev.nexus.ocp.bbp.epfl.ch/v1/resources/myorg20190522150300907699/myproject/_/a771b5c6-0558-468c-aa89-82f6e086ce48\",\n",
      "      \"@type\": \"https://bluebrain.github.io/nexus/vocabulary/File\",\n",
      "      \"_storageId\": \"http://dev.nexus.ocp.bbp.epfl.ch/v1/resources/myorg20190522150300907699/myproject/_/8affbb22-5ffd-462b-a8ec-b03248dc88ca\",\n",
      "      \"_bytes\": 28173,\n",
      "      \"_digest\": {\n",
      "        \"_value\": \"7a132bb63cb25f6f86d76ddf1c7ea3db785b1ccec6ca34d209c18dc4e08479a4\",\n",
      "        \"_algorithm\": \"SHA-256\"\n",
      "      },\n",
      "      \"_filename\": \"idontalways.jpg\",\n",
      "      \"_location\": \"http://minio.dev.nexus.ocp.bbp.epfl.ch/sdkbucket/6emgw.jpg\",\n",
      "      \"_mediaType\": \"image/jpeg\",\n",
      "      \"_self\": \"http://dev.nexus.ocp.bbp.epfl.ch/v1/files/myorg20190522150300907699/myproject/a771b5c6-0558-468c-aa89-82f6e086ce48\",\n",
      "      \"_constrainedBy\": \"https://bluebrain.github.io/nexus/schemas/file.json\",\n",
      "      \"_project\": \"http://dev.nexus.ocp.bbp.epfl.ch/v1/projects/myorg20190522150300907699/myproject\",\n",
      "      \"_rev\": 2,\n",
      "      \"_deprecated\": false,\n",
      "      \"_createdAt\": \"2019-05-22T15:03:27.366Z\",\n",
      "      \"_createdBy\": \"http://dev.nexus.ocp.bbp.epfl.ch/v1/realms/github/users/henry\",\n",
      "      \"_updatedAt\": \"2019-05-22T15:03:47.224Z\",\n",
      "      \"_updatedBy\": \"http://dev.nexus.ocp.bbp.epfl.ch/v1/realms/github/users/henry\"\n",
      "    },\n",
      "    {\n",
      "      \"@id\": \"http://dev.nexus.ocp.bbp.epfl.ch/v1/resources/myorg20190522150300907699/myproject/_/f252984e-a81d-4c95-9e50-d65b2451a25d\",\n",
      "      \"@type\": \"https://bluebrain.github.io/nexus/vocabulary/File\",\n",
      "      \"_storageId\": \"https://bluebrain.github.io/nexus/vocabulary/diskStorageDefault\",\n",
      "      \"_bytes\": 28173,\n",
      "      \"_digest\": {\n",
      "        \"_value\": \"7a132bb63cb25f6f86d76ddf1c7ea3db785b1ccec6ca34d209c18dc4e08479a4\",\n",
      "        \"_algorithm\": \"SHA-256\"\n",
      "      },\n",
      "      \"_filename\": \"idontalways.jpg\",\n",
      "      \"_mediaType\": \"image/jpeg\",\n",
      "      \"_self\": \"http://dev.nexus.ocp.bbp.epfl.ch/v1/files/myorg20190522150300907699/myproject/f252984e-a81d-4c95-9e50-d65b2451a25d\",\n",
      "      \"_constrainedBy\": \"https://bluebrain.github.io/nexus/schemas/file.json\",\n",
      "      \"_project\": \"http://dev.nexus.ocp.bbp.epfl.ch/v1/projects/myorg20190522150300907699/myproject\",\n",
      "      \"_rev\": 1,\n",
      "      \"_deprecated\": false,\n",
      "      \"_createdAt\": \"2019-05-22T15:03:40.296Z\",\n",
      "      \"_createdBy\": \"http://dev.nexus.ocp.bbp.epfl.ch/v1/realms/github/users/henry\",\n",
      "      \"_updatedAt\": \"2019-05-22T15:03:40.296Z\",\n",
      "      \"_updatedBy\": \"http://dev.nexus.ocp.bbp.epfl.ch/v1/realms/github/users/henry\"\n",
      "    }\n",
      "  ],\n",
      "  \"_next\": \"http://dev.nexus.ocp.bbp.epfl.ch/v1/files/myorg20190522150300907699/myproject?size=20&after=%5B1558537420296,%22http://dev.nexus.ocp.bbp.epfl.ch/v1/resources/myorg20190522150300907699/myproject/_/f252984e-a81d-4c95-9e50-d65b2451a25d%22%5D\"\n",
      "}\n"
     ]
    }
   ],
   "source": [
    "pp(nxs.files.list(ORGANIZATION, PROJECT))"
   ]
  },
  {
   "cell_type": "code",
   "execution_count": 52,
   "metadata": {},
   "outputs": [
    {
     "name": "stdout",
     "output_type": "stream",
     "text": [
      "{\n",
      "  \"@context\": \"https://bluebrain.github.io/nexus/contexts/resource.json\",\n",
      "  \"@id\": \"http://dev.nexus.ocp.bbp.epfl.ch/v1/resources/myorg20190522150300907699/myproject/_/a771b5c6-0558-468c-aa89-82f6e086ce48\",\n",
      "  \"@type\": \"File\",\n",
      "  \"_storageId\": \"http://dev.nexus.ocp.bbp.epfl.ch/v1/resources/myorg20190522150300907699/myproject/_/8affbb22-5ffd-462b-a8ec-b03248dc88ca\",\n",
      "  \"_bytes\": 28173,\n",
      "  \"_digest\": {\n",
      "    \"_value\": \"7a132bb63cb25f6f86d76ddf1c7ea3db785b1ccec6ca34d209c18dc4e08479a4\",\n",
      "    \"_algorithm\": \"SHA-256\"\n",
      "  },\n",
      "  \"_filename\": \"idontalways.jpg\",\n",
      "  \"_location\": \"http://minio.dev.nexus.ocp.bbp.epfl.ch/sdkbucket/6emgw.jpg\",\n",
      "  \"_mediaType\": \"image/jpeg\",\n",
      "  \"_self\": \"http://dev.nexus.ocp.bbp.epfl.ch/v1/files/myorg20190522150300907699/myproject/a771b5c6-0558-468c-aa89-82f6e086ce48\",\n",
      "  \"_constrainedBy\": \"https://bluebrain.github.io/nexus/schemas/file.json\",\n",
      "  \"_project\": \"http://dev.nexus.ocp.bbp.epfl.ch/v1/projects/myorg20190522150300907699/myproject\",\n",
      "  \"_rev\": 3,\n",
      "  \"_deprecated\": false,\n",
      "  \"_createdAt\": \"2019-05-22T15:03:27.366Z\",\n",
      "  \"_createdBy\": \"http://dev.nexus.ocp.bbp.epfl.ch/v1/realms/github/users/henry\",\n",
      "  \"_updatedAt\": \"2019-05-22T15:04:11.548Z\",\n",
      "  \"_updatedBy\": \"http://dev.nexus.ocp.bbp.epfl.ch/v1/realms/github/users/henry\"\n",
      "}\n"
     ]
    }
   ],
   "source": [
    "pp(nxs.files.tag(ORGANIZATION, PROJECT, linked_image[\"@id\"], 1, \"original\", rev=2))"
   ]
  },
  {
   "cell_type": "code",
   "execution_count": 59,
   "metadata": {},
   "outputs": [
    {
     "name": "stdout",
     "output_type": "stream",
     "text": [
      "{\n",
      "  \"@context\": [\n",
      "    {\n",
      "      \"@base\": \"http://dev.nexus.ocp.bbp.epfl.ch/v1/resources/myorg20190522150300907699/myproject/_/\",\n",
      "      \"@vocab\": \"http://dev.nexus.ocp.bbp.epfl.ch/v1/vocabs/myorg20190522150300907699/myproject/\"\n",
      "    },\n",
      "    \"https://bluebrain.github.io/nexus/contexts/resource.json\"\n",
      "  ],\n",
      "  \"@id\": \"a771b5c6-0558-468c-aa89-82f6e086ce48\",\n",
      "  \"@type\": \"File\",\n",
      "  \"_storageId\": \"8affbb22-5ffd-462b-a8ec-b03248dc88ca\",\n",
      "  \"_bytes\": 28173,\n",
      "  \"_digest\": {\n",
      "    \"_value\": \"7a132bb63cb25f6f86d76ddf1c7ea3db785b1ccec6ca34d209c18dc4e08479a4\",\n",
      "    \"_algorithm\": \"SHA-256\"\n",
      "  },\n",
      "  \"_filename\": \"idontalways.jpg\",\n",
      "  \"_location\": \"http://minio.dev.nexus.ocp.bbp.epfl.ch/sdkbucket/6emgw.jpg\",\n",
      "  \"_mediaType\": \"image/jpeg\",\n",
      "  \"_self\": \"http://dev.nexus.ocp.bbp.epfl.ch/v1/files/myorg20190522150300907699/myproject/a771b5c6-0558-468c-aa89-82f6e086ce48\",\n",
      "  \"_constrainedBy\": \"https://bluebrain.github.io/nexus/schemas/file.json\",\n",
      "  \"_project\": \"http://dev.nexus.ocp.bbp.epfl.ch/v1/projects/myorg20190522150300907699/myproject\",\n",
      "  \"_rev\": 1,\n",
      "  \"_deprecated\": false,\n",
      "  \"_createdAt\": \"2019-05-22T15:03:27.366Z\",\n",
      "  \"_createdBy\": \"http://dev.nexus.ocp.bbp.epfl.ch/v1/realms/github/users/henry\",\n",
      "  \"_updatedAt\": \"2019-05-22T15:03:27.366Z\",\n",
      "  \"_updatedBy\": \"http://dev.nexus.ocp.bbp.epfl.ch/v1/realms/github/users/henry\"\n",
      "}\n"
     ]
    }
   ],
   "source": [
    "pp(nxs.files.fetch(ORGANIZATION, PROJECT, linked_image[\"@id\"], tag=\"original\"))"
   ]
  },
  {
   "cell_type": "code",
   "execution_count": 60,
   "metadata": {},
   "outputs": [
    {
     "name": "stdout",
     "output_type": "stream",
     "text": [
      "{\n",
      "  \"@context\": \"https://bluebrain.github.io/nexus/contexts/resource.json\",\n",
      "  \"@id\": \"http://dev.nexus.ocp.bbp.epfl.ch/v1/resources/myorg20190522150300907699/myproject/_/a771b5c6-0558-468c-aa89-82f6e086ce48\",\n",
      "  \"@type\": \"File\",\n",
      "  \"_storageId\": \"http://dev.nexus.ocp.bbp.epfl.ch/v1/resources/myorg20190522150300907699/myproject/_/8affbb22-5ffd-462b-a8ec-b03248dc88ca\",\n",
      "  \"_bytes\": 28173,\n",
      "  \"_digest\": {\n",
      "    \"_value\": \"7a132bb63cb25f6f86d76ddf1c7ea3db785b1ccec6ca34d209c18dc4e08479a4\",\n",
      "    \"_algorithm\": \"SHA-256\"\n",
      "  },\n",
      "  \"_filename\": \"idontalways.jpg\",\n",
      "  \"_location\": \"http://minio.dev.nexus.ocp.bbp.epfl.ch/sdkbucket/6emgw.jpg\",\n",
      "  \"_mediaType\": \"image/jpeg\",\n",
      "  \"_self\": \"http://dev.nexus.ocp.bbp.epfl.ch/v1/files/myorg20190522150300907699/myproject/a771b5c6-0558-468c-aa89-82f6e086ce48\",\n",
      "  \"_constrainedBy\": \"https://bluebrain.github.io/nexus/schemas/file.json\",\n",
      "  \"_project\": \"http://dev.nexus.ocp.bbp.epfl.ch/v1/projects/myorg20190522150300907699/myproject\",\n",
      "  \"_rev\": 4,\n",
      "  \"_deprecated\": true,\n",
      "  \"_createdAt\": \"2019-05-22T15:03:27.366Z\",\n",
      "  \"_createdBy\": \"http://dev.nexus.ocp.bbp.epfl.ch/v1/realms/github/users/henry\",\n",
      "  \"_updatedAt\": \"2019-05-22T15:16:33.222Z\",\n",
      "  \"_updatedBy\": \"http://dev.nexus.ocp.bbp.epfl.ch/v1/realms/github/users/henry\"\n",
      "}\n"
     ]
    }
   ],
   "source": [
    "pp(nxs.files.deprecate(ORGANIZATION, PROJECT, linked_image[\"@id\"], 3))"
   ]
  },
  {
   "cell_type": "code",
   "execution_count": null,
   "metadata": {},
   "outputs": [],
   "source": []
  }
 ],
 "metadata": {
  "kernelspec": {
   "display_name": "Python 3",
   "language": "python",
   "name": "python3"
  },
  "language_info": {
   "codemirror_mode": {
    "name": "ipython",
    "version": 3
   },
   "file_extension": ".py",
   "mimetype": "text/x-python",
   "name": "python",
   "nbconvert_exporter": "python",
   "pygments_lexer": "ipython3",
   "version": "3.6.7"
  }
 },
 "nbformat": 4,
 "nbformat_minor": 2
}
